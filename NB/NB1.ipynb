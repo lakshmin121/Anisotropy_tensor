{
 "cells": [
  {
   "cell_type": "markdown",
   "metadata": {},
   "source": [
    "# Fibre Orientation from Projected Images\n"
   ]
  },
  {
   "cell_type": "markdown",
   "metadata": {},
   "source": [
    "## Methods of analysis\n",
    "Three different methods are proposed for the analysis of fibre orientation from projected images. They are:\n",
    "1. Intercept method\n",
    "2. Principal component analysis\n",
    "3. Hessian method\n",
    "\n",
    "The implementation of each of this method is discussed in this section."
   ]
  },
  {
   "cell_type": "markdown",
   "metadata": {},
   "source": [
    "### 1. Intercept method\n",
    "The idea here is to use a test line across the projected image. The number of intersections of the test line with the fibres and corresponding intercept lengths can be measured. By changing the orientation of the test line, the variation of mean intercept line is plotted."
   ]
  },
  {
   "cell_type": "code",
   "execution_count": 19,
   "metadata": {},
   "outputs": [],
   "source": [
    "%config Completer.use_jedi = False\n",
    "import os\n",
    "import numpy as np\n",
    "import skimage.io as skio\n",
    "from skimage.draw import line\n",
    "from matplotlib import pyplot as plt\n",
    "from coords import coord\n",
    "\n",
    "data_dir = \"C:\\\\Users\\\\z5218869\\\\OneDrive - UNSW\\\\2RESEARCH\\\\4_Image Processing\\\\ProjImageAnalysis\\\\data\\\\set1_proj_imgs\\\\ip_rescaled\""
   ]
  },
  {
   "cell_type": "code",
   "execution_count": 16,
   "metadata": {},
   "outputs": [
    {
     "name": "stdout",
     "output_type": "stream",
     "text": [
      "Image dimensions:  (140, 140)\n"
     ]
    },
    {
     "data": {
      "image/png": "[encoded data removed]",
      "text/plain": [
       "<Figure size 432x288 with 1 Axes>"
      ]
     },
     "metadata": {
      "needs_background": "light"
     },
     "output_type": "display_data"
    }
   ],
   "source": [
    "# READ IMAGE: Image with array of fibres in x-direction\n",
    "in_fname = \"fibres_vf0.01_theta90_phi0_rescaled.png\"\n",
    "img = skio.imread(os.path.join(data_dir, in_fname))\n",
    "\n",
    "# show original image\n",
    "imax = skio.imshow(img, cmap='gray')\n",
    "ax = imax.axes\n",
    "t = ax.set_title(r\"$V_v$=0.01, $\\theta$=90$\\degree$, $\\phi$=0$\\degree$\")\n",
    "print(\"Image dimensions: \", img.shape)"
   ]
  },
  {
   "cell_type": "code",
   "execution_count": 30,
   "metadata": {},
   "outputs": [
    {
     "name": "stdout",
     "output_type": "stream",
     "text": [
      "line cosines:  coord (1.0, 6.123233995736766e-17)\n"
     ]
    },
    {
     "name": "stderr",
     "output_type": "stream",
     "text": [
      "C:\\Users\\z5218869\\Miniconda3\\envs\\pyimgc38\\lib\\site-packages\\skimage\\io\\_plugins\\matplotlib_plugin.py:150: UserWarning: Low image data range; displaying image with stretched contrast.\n",
      "  lo, hi, cmap = _get_display_range(image)\n"
     ]
    },
    {
     "data": {
      "image/png": "[encoded data removed]",
      "text/plain": [
       "<Figure size 432x288 with 2 Axes>"
      ]
     },
     "metadata": {
      "needs_background": "light"
     },
     "output_type": "display_data"
    }
   ],
   "source": [
    "# TEST LINE\n",
    "# The test line has to be drawn perperndicular, \n",
    "# i.e. for phi=0, the test line will be vertical,\n",
    "# and for phi=90 the test line will be horizontal.\n",
    "\n",
    "\n",
    "def sanitize_line_ends(line_end, imshp):\n",
    "    r, c = line_end.value\n",
    "    if r < 0: r = 0\n",
    "    if r > imshp[0]:r = imshp[0]-1\n",
    "    if c < 0: c = 0\n",
    "    if c > imshp[1]: c = imshp[1]-1\n",
    "    return coord((int(r), int(c)))\n",
    "\n",
    "imshp = img.shape\n",
    "phi = 0  # -90<=phi<=90; positive phi is clockwise rotation in the image.\n",
    "line_center = coord(np.asarray(imshp) / 2) # coord: custom class to hand cartesian coordinates and operations\n",
    "line_length = np.linalg.norm(np.asarray(imshp))\n",
    "line_angle  = phi + 90\n",
    "line_cosines = coord((np.sin(np.deg2rad(line_angle)), np.cos(np.deg2rad(line_angle))))\n",
    "print(\"line cosines: \", line_cosines)\n",
    "line_tail = sanitize_line_ends(line_center - 0.5*line_length*line_cosines, imshp)\n",
    "line_head = sanitize_line_ends(line_center + 0.5*line_length*line_cosines, imshp)\n",
    "\n",
    "rr, cc = line(*line_tail.value, *line_head.value)\n",
    "line_mask = np.zeros(imshp, dtype=np.uint8)\n",
    "line_mask[rr, cc] = 1\n",
    "\n",
    "# show line mask\n",
    "imax = skio.imshow(line_mask, cmap='gray')"
   ]
  },
  {
   "cell_type": "code",
   "execution_count": null,
   "metadata": {},
   "outputs": [],
   "source": []
  }
 ],
 "metadata": {
  "kernelspec": {
   "display_name": "pyimgc38",
   "language": "python",
   "name": "pyimgc38"
  },
  "language_info": {
   "codemirror_mode": {
    "name": "ipython",
    "version": 3
   },
   "file_extension": ".py",
   "mimetype": "text/x-python",
   "name": "python",
   "nbconvert_exporter": "python",
   "pygments_lexer": "ipython3",
   "version": "3.8.5"
  }
 },
 "nbformat": 4,
 "nbformat_minor": 4
}
